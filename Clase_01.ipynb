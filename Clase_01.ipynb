{
  "nbformat": 4,
  "nbformat_minor": 0,
  "metadata": {
    "colab": {
      "name": "Clase 01.ipynb",
      "provenance": []
    },
    "kernelspec": {
      "name": "python3",
      "display_name": "Python 3"
    },
    "language_info": {
      "name": "python"
    }
  },
  "cells": [
    {
      "cell_type": "markdown",
      "source": [
        "# Introducción a Python\n",
        "\n",
        "### Ejemplos vistos en la sesión\n",
        "\n",
        "1. Procedimiento CalcularMaxMin: recibe una lista de enteros  y devuelve\n",
        "el máximo y el mínimo de los números guardados en el vector. Parámetros de entrada: lista de enteros. Valores de salida: valor máximo y mínimo."
      ],
      "metadata": {
        "id": "sYRZ_UihFAwZ"
      }
    },
    {
      "cell_type": "code",
      "execution_count": null,
      "metadata": {
        "colab": {
          "base_uri": "https://localhost:8080/"
        },
        "id": "g0wODUt7E5nj",
        "outputId": "739adc76-774f-45b1-fd0f-c09c20a1fbf1"
      },
      "outputs": [
        {
          "output_type": "stream",
          "name": "stdout",
          "text": [
            "El valor min es:  7 \n",
            "El valor max es:  40\n"
          ]
        }
      ],
      "source": [
        "# Merengues\n",
        "import random\n",
        "def Maxmin(l):\n",
        "  return(min(l),max(l))\n",
        "\n",
        "l = [random.randint(1,50) for i in range(10)]\n",
        "minimo, maximo = Maxmin(l)\n",
        "print('El valor min es: ', minimo,\n",
        "      '\\nEl valor max es: ',maximo)"
      ]
    },
    {
      "cell_type": "markdown",
      "source": [
        "2. Función CalcularAreaPerimetro: recibe el radio de una circunferencia y\n",
        "devuelve el área y el perímetro.\n",
        "Parámetros de entrada: radio (real)\n",
        "Valores de salida: área y perímetro (real)"
      ],
      "metadata": {
        "id": "kLr8dV87GIIK"
      }
    },
    {
      "cell_type": "code",
      "source": [
        "# Merengues\n",
        "from math import pi\n",
        "\n",
        "def CalcularAreaPerimetro(radio):\n",
        "  return(pi*radio**2,2*pi*radio)\n",
        "\n",
        "radio = float(input('Ingrese el radio: '))\n",
        "area, perimetro = CalcularAreaPerimetro(radio)\n",
        "print('El area es: ',area,\n",
        "      '\\nEl perimetro es: ',perimetro)"
      ],
      "metadata": {
        "colab": {
          "base_uri": "https://localhost:8080/"
        },
        "id": "Js5wBT9lGTp4",
        "outputId": "6f5e85ce-bee1-4f99-e6f4-4611f27e24b4"
      },
      "execution_count": null,
      "outputs": [
        {
          "output_type": "stream",
          "name": "stdout",
          "text": [
            "Ingrese el radio: 12\n",
            "El area es:  452.3893421169302 \n",
            "El perimetro es:  75.39822368615503\n"
          ]
        }
      ]
    },
    {
      "cell_type": "markdown",
      "source": [
        "3. Función centrar: Recibe una cadena y la imprime centrada en la pantalla."
      ],
      "metadata": {
        "id": "-INkWQAHGaCj"
      }
    },
    {
      "cell_type": "code",
      "source": [
        "def centrar(cad):\n",
        "\n",
        "\tprint(\" \" * int(60 - (len(cad)/2)), cad)\n",
        "\tprint(\" \" * int(60 - (len(cad)/2)), \"=\" * len(cad))\n",
        "\n",
        "mensaje1 = \"HackWomen\"\n",
        "centrar(mensaje1)\n",
        "mensaje2 = \"SKILLS FOR WOMEN IN TECH\"\n",
        "centrar(mensaje2)"
      ],
      "metadata": {
        "colab": {
          "base_uri": "https://localhost:8080/"
        },
        "id": "BkSFZ9Z2GesF",
        "outputId": "b85112fb-91f6-4eeb-af36-005ba1b765b9"
      },
      "execution_count": null,
      "outputs": [
        {
          "output_type": "stream",
          "name": "stdout",
          "text": [
            "                                                        HackWomen\n",
            "                                                        =========\n",
            "                                                 SKILLS FOR WOMEN IN TECH\n",
            "                                                 ========================\n"
          ]
        }
      ]
    },
    {
      "cell_type": "markdown",
      "source": [
        "4. Función Convertir a  segundos: Recibe una cantidad de horas, minutos y segundos y calcula a cuantos segundos corresponde."
      ],
      "metadata": {
        "id": "XV_slFE1GqCK"
      }
    },
    {
      "cell_type": "code",
      "source": [
        "# Merengues \n",
        "def ConverSegundos(hour, min, seg):\n",
        "   tiempo = 3600*hour + 60*min + seg\n",
        "   return tiempo\n",
        "\n",
        "# Solicitamos el tiempo\n",
        "print('    Calculadora para convertir el tiempo a segundos   \\n')\n",
        "hour = int(input('Horas: '))\n",
        "min = int(input('Minutos: '))\n",
        "seg = int(input('Segundos: '))\n",
        "\n",
        "print('\\n    El tiempo total en segundos es: ', \n",
        "      ConverSegundos(hour,min,seg))"
      ],
      "metadata": {
        "colab": {
          "base_uri": "https://localhost:8080/"
        },
        "id": "l87GgcDSGueC",
        "outputId": "3dfdded2-fe2c-468c-c47d-8985feb2f80c"
      },
      "execution_count": null,
      "outputs": [
        {
          "output_type": "stream",
          "name": "stdout",
          "text": [
            "    Calculadora para convertir el tiempo a segundos   \n",
            "\n",
            "Horas: 10\n",
            "Minutos: 21\n",
            "Segundos: 34\n",
            "\n",
            "    El tiempo total en segundos es:  37294\n"
          ]
        }
      ]
    },
    {
      "cell_type": "markdown",
      "source": [
        "5. Función ValidarFecha: Recibe un día, mes y año correspondiente a una fecha y devuelve si la fecha es correcta o no. Simplemente miramos si el día indicado es mayor que 1 y menor que los días del mes. Si introducimos un mes incorrecto, la función DiasDelMes devuelve 0 por lo tanto la fecha va a ser incorrecta. Parámetros de entrada: día, mes y año\n",
        "Dato devuelto: Valor lógico indicando si es correcta (Verdadero) o no (Falso)"
      ],
      "metadata": {
        "id": "_lKhUXu1OBpF"
      }
    },
    {
      "cell_type": "code",
      "source": [
        "# Merengue\n",
        "# Funcion para validar fecha\n",
        "def DiasDelMes(dia, mes, año):\n",
        "  if dia*mes*año <= 0:\n",
        "    valor = 0\n",
        "  mes_31 = [1,3,5,7,8,10,12]\n",
        "  mes_30 = [4,6,9,11]\n",
        "  if mes == 2:\n",
        "    valor = dia <= 29\n",
        "  elif mes in mes_30:\n",
        "    valor = dia <= 30\n",
        "  elif mes in mes_31:\n",
        "    valor = dia <= 31\n",
        "  else:\n",
        "    valor = 0\n",
        "  return valor\n",
        "\n",
        "def ValidarFecha(valor):\n",
        "  if valor == 0:\n",
        "    valor = False\n",
        "    print('Error en la fecha \\n', valor)\n",
        "  else:\n",
        "    print('La fecha es correcta \\n', valor)\n",
        "\n",
        "print('Ingrese la fecha, use los números de los meses\\n')\n",
        "dia = int(input('Ingrese el dia: '))\n",
        "mes = int(input('Ingrese el mes: '))\n",
        "año = int(input('Ingrese el año: '))\n",
        "\n",
        "\n",
        "valor = DiasDelMes(dia,mes,año)\n",
        "ValidarFecha(valor)"
      ],
      "metadata": {
        "colab": {
          "base_uri": "https://localhost:8080/"
        },
        "id": "lTn7zYaTODna",
        "outputId": "7dddd966-0f46-49e6-c517-6416c4b65ccb"
      },
      "execution_count": null,
      "outputs": [
        {
          "output_type": "stream",
          "name": "stdout",
          "text": [
            "Ingrese la fecha, use los números de los meses\n",
            "\n",
            "Ingrese el dia: 3\n",
            "Ingrese el mes: 234\n",
            "Ingrese el año: 1\n",
            "Error en la fecha \n",
            " False\n"
          ]
        }
      ]
    },
    {
      "cell_type": "markdown",
      "source": [
        "## ¡A resolver el reto!\n",
        "\n",
        "Vamos a prodecer a crear una lista de diccionarios, esto es, un directorio de estudiantes de SKILLS FOR WOMEN IN TECH que participarán en una edición en línea.\n",
        "\n",
        "Cada estudiante debe tener los siguientes atributos:\n",
        "- Nombre <str>\n",
        "- Edad <int>\n",
        "- Temas <lista>\n",
        "- Menores de edad <bool>\n",
        "\n",
        "Puedes asignar los datos a mano o utilizar funciones aleatorias para llenar los campos."
      ],
      "metadata": {
        "id": "EmlG3hcMOK1T"
      }
    },
    {
      "cell_type": "code",
      "source": [
        "# Empezamos creando el diccionario ejemplo con mis datos\n",
        "SFWIT = [{\"Edad\" : \"Semiramis\", \n",
        "         \"Nombre\" : 22,\n",
        "         \"Temas\" : \"Python\",\n",
        "         \"Menor de edad\" : \"No\"}]\n",
        "\n",
        "keys = SFWIT[0].keys()\n",
        "# Hacemos una funcion para añadir padawans\n",
        "\n",
        "def new_padawan(info):\n",
        "  padawan = dict(zip(keys, info))\n",
        "  return padawan\n",
        "\n",
        "# Menu\n",
        "while True:\n",
        "  opcion = int(input(\"\"\"\n",
        "  Seleccione la opción de su interés:\n",
        "  1. Añadir padawan\n",
        "  2. Ver diccionario\n",
        "  3. Salir\n",
        "  \"\"\"))\n",
        "  if opcion == 1:\n",
        "    age = int(input('Ingresa tu edad: '))\n",
        "    name = str(input('Ingresa tu nombre: '))\n",
        "    topic = str(input('Ingresa un tema de interes:'))\n",
        "    if age <18:\n",
        "      menor = 'Si'\n",
        "    else:\n",
        "      menor = 'No'\n",
        "    info = [age,name,topic,menor]\n",
        "    SFWIT.append(new_padawan(info))\n",
        "    print(SyntaxWarning)\n",
        "  elif opcion == 2:\n",
        "    print(SFWIT)\n",
        "  else:\n",
        "    break"
      ],
      "metadata": {
        "colab": {
          "base_uri": "https://localhost:8080/"
        },
        "id": "sTiFIah7OPzR",
        "outputId": "23cc5e66-09c5-4c80-ecb0-8de1f8ebf34c"
      },
      "execution_count": 20,
      "outputs": [
        {
          "name": "stdout",
          "output_type": "stream",
          "text": [
            "\n",
            "  Seleccione la opción de su interés:\n",
            "  1. Añadir padawan\n",
            "  2. Ver diccionario\n",
            "  3. Salir\n",
            "  1\n",
            "Ingresa tu edad: 25\n",
            "Ingresa tu nombre: Bibiana\n",
            "Ingresa un tema de interes:BD\n",
            "<class 'SyntaxWarning'>\n",
            "\n",
            "  Seleccione la opción de su interés:\n",
            "  1. Añadir padawan\n",
            "  2. Ver diccionario\n",
            "  3. Salir\n",
            "  1\n",
            "Ingresa tu edad: 17\n",
            "Ingresa tu nombre: Dharma\n",
            "Ingresa un tema de interes:Java\n",
            "<class 'SyntaxWarning'>\n",
            "\n",
            "  Seleccione la opción de su interés:\n",
            "  1. Añadir padawan\n",
            "  2. Ver diccionario\n",
            "  3. Salir\n",
            "  2\n",
            "[{'Edad': 'Semiramis', 'Nombre': 22, 'Temas': 'Python', 'Menor de edad': 'No'}, {'Edad': 25, 'Nombre': 'Bibiana', 'Temas': 'BD', 'Menor de edad': 'No'}, {'Edad': 17, 'Nombre': 'Dharma', 'Temas': 'Java', 'Menor de edad': 'Si'}]\n",
            "\n",
            "  Seleccione la opción de su interés:\n",
            "  1. Añadir padawan\n",
            "  2. Ver diccionario\n",
            "  3. Salir\n",
            "  3\n"
          ]
        }
      ]
    }
  ]
}